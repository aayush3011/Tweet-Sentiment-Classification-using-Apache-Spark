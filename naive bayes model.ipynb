{
 "cells": [
  {
   "cell_type": "code",
   "execution_count": 28,
   "metadata": {
    "collapsed": false
   },
   "outputs": [],
   "source": [
    "# Standard Imports\n",
    "import itertools\n",
    "import re\n",
    "import numpy as np\n",
    "from html import unescape\n",
    "from nltk.tokenize import RegexpTokenizer\n",
    "from nltk.corpus import stopwords\n",
    "from nltk.stem.porter import *\n",
    "from nltk.stem.snowball import SnowballStemmer\n",
    "import matplotlib.pyplot as pp\n",
    "\n",
    "# Spark Imports\n",
    "import pyspark\n",
    "from pyspark import SparkContext\n",
    "from pyspark.mllib.classification import NaiveBayes, NaiveBayesModel, LogisticRegressionWithLBFGS\n",
    "from pyspark.mllib.linalg import Vectors\n",
    "from pyspark.mllib.regression import LabeledPoint\n",
    "from pyspark.mllib.feature import HashingTF,IDF\n",
    "from pyspark.mllib.evaluation import BinaryClassificationMetrics\n",
    "from pyspark.mllib.evaluation import MulticlassMetrics\n",
    "from pyspark.mllib.util import MLUtils"
   ]
  },
  {
   "cell_type": "code",
   "execution_count": null,
   "metadata": {
    "collapsed": true
   },
   "outputs": [],
   "source": [
    ""
   ]
  },
  {
   "cell_type": "code",
   "execution_count": 2,
   "metadata": {
    "collapsed": true
   },
   "outputs": [],
   "source": [
    "# Training and Testing Data\n",
    "training_file_data = sc.textFile(\"data/train.csv\")\n",
    "testing_file_data = sc.textFile(\"data/test.csv\")"
   ]
  },
  {
   "cell_type": "markdown",
   "metadata": {},
   "source": [
    "# Preprocessing Steps:\n",
    "\n",
    "1. Lowercase all characters\n",
    "2. Stemming using Porter Stemmer\n",
    "3. Strip punctuations\n",
    "4. Replace two or more occurrences of the same character with two occurrences. i.e. ‘exciteddddd’ to ‘excitedd’\n",
    "5. Replace Hash tags, ex. #xyz with xyz\n",
    "6. Replace a word contains www. or http(s):// with URL\n",
    "7. Replace a word contains @someuser with AT_USER\n",
    "8. Ignore words that don’t start with an alphabet\n",
    "9. Ignore stop words\n",
    "10. Use html.unescape to replace html escape characters and replace with their meaning\n",
    "11. Replace aposthope characters apostrophes to standard lexicons"
   ]
  },
  {
   "cell_type": "code",
   "execution_count": 3,
   "metadata": {
    "collapsed": true
   },
   "outputs": [],
   "source": [
    "def html_parser(tweet):\n",
    "    return unescape(tweet)\n",
    "\n",
    "\n",
    "def remove_appostophes(tweet):\n",
    "    appostophes = {\"s\": \"is\", \"re\": \"are\", \"em\": \"them\", \"ll\": \"will\", \"t\": \"it\", \"m\": \"am\", \"ve\": \"have\", \"d\": \"did\"}\n",
    "    words = []\n",
    "    [words.append(terms) for word in tweet.split() for terms in [appostophes[term] if term in appostophes else term for\n",
    "                                                                 term in word.split(\"'\")]]\n",
    "    return \" \".join(words)\n",
    "\n",
    "\n",
    "def remove_stopwords(tweet):\n",
    "    return \" \".join([term for term in tweet.lower().split(\" \") if term not in open(\"data/stopwords.txt\", \"r\").read().\n",
    "                    split()])\n",
    "\n",
    "def alpha_check(tweet):\n",
    "    return \" \".join([term for term in tweet.split() if re.match('^[a-zA-Z]+.*', term[0])])\n",
    "\n",
    "\n",
    "# def split_attached_words(tweet):\n",
    "#     return \" \".join(re.findall('[A-Z][^A-Z]*', tweet))\n",
    "\n",
    "\n",
    "def strip_usernames(tweet):\n",
    "    return re.sub('(?:@[\\w]+)', '', tweet)\n",
    "\n",
    "\n",
    "def strip_urls(tweet):\n",
    "    return re.sub('http[s]?://(?:[a-z]|[0-9]|[$-_@.&+]|[!*\\(\\),]|(?:%[0-9a-f][0-9a-f]))+', '', tweet)\n",
    "\n",
    "\n",
    "def strip_hashes(tweet):\n",
    "    return \" \".join([word[1:] if word.startswith('#') else word for word in tweet.split()])\n",
    "\n",
    "\n",
    "def strip_numbers(tweet):\n",
    "    return re.sub('(?:(t?:\\d+,?)+(?:\\.?\\d+)?)', '', tweet)\n",
    "\n",
    "\n",
    "def strip_punctuation(tweet):\n",
    "    return \" \".join(RegexpTokenizer(r'\\w+').tokenize(tweet))\n",
    "\n",
    "\n",
    "def stemming(tweet):\n",
    "    return \" \".join(PorterStemmer().stem(word) for word in tweet.split())\n",
    "    # return \" \".join(SnowballStemmer(\"english\").stem(word) for word in tweet.split())\n",
    "\n",
    "\n",
    "def strip_repeated_letters(tweet):\n",
    "    # return re.sub('([a-z])\\1+', '\\1', tweet)\n",
    "    return \"\".join(\"\".join(s)[:2] for _, s in itertools.groupby(tweet))"
   ]
  },
  {
   "cell_type": "code",
   "execution_count": 4,
   "metadata": {
    "collapsed": true
   },
   "outputs": [],
   "source": [
    "def preprocessed_text(tweet_text):\n",
    "    cleaned_text = html_parser(tweet_text)\n",
    "    cleaned_text = strip_usernames(cleaned_text)\n",
    "    cleaned_text = strip_urls(cleaned_text)\n",
    "    cleaned_text = strip_hashes(cleaned_text)\n",
    "    cleaned_text = strip_numbers(cleaned_text)\n",
    "    cleaned_text = strip_punctuation(cleaned_text)\n",
    "    cleaned_text = remove_appostophes(cleaned_text)\n",
    "    cleaned_text = remove_stopwords(cleaned_text)\n",
    "    cleaned_text = alpha_check(cleaned_text)\n",
    "    cleaned_text = strip_repeated_letters(cleaned_text)\n",
    "    cleaned_text = stemming(cleaned_text)\n",
    "    splitted_text = cleaned_text.split()\n",
    "#     print(splitted_text)\n",
    "    return splitted_text"
   ]
  },
  {
   "cell_type": "code",
   "execution_count": 5,
   "metadata": {
    "collapsed": true
   },
   "outputs": [],
   "source": [
    "def testing_hashing_tf(tweet):\n",
    "    line = tweet.split(\",\", 5)\n",
    "    polarity = line[0][1]\n",
    "    testing_tweet_text = preprocessed_text(line[-1])\n",
    "    \n",
    "    test_hashing_tf = HashingTF()\n",
    "    test_tf = test_hashing_tf.transform(testing_tweet_text)\n",
    "    return LabeledPoint(polarity,test_tf)\n",
    "\n",
    "def preprocessed_text_wrapper(single_line):\n",
    "    return preprocessed_text(single_line.split(\",\",5)[-1])"
   ]
  },
  {
   "cell_type": "code",
   "execution_count": 6,
   "metadata": {
    "collapsed": true
   },
   "outputs": [],
   "source": [
    "def tfidf():\n",
    "    tweet_text = training_file_data.map(preprocessed_text_wrapper)\n",
    "    tweet_polarity = training_file_data.map(lambda line: line.split(\",\",1)[0][1])\n",
    "\n",
    "    hashingtf = HashingTF()\n",
    "    tf = hashingtf.transform(tweet_text)\n",
    "\n",
    "    tf.cache()\n",
    "    idf = IDF().fit(tf)\n",
    "    tfidf = idf.transform(tf)\n",
    "\n",
    "    zipped_list = tweet_polarity.zip(tfidf)\n",
    "    return zipped_list.map(lambda x: LabeledPoint(x[0],x[1]))"
   ]
  },
  {
   "cell_type": "markdown",
   "metadata": {},
   "source": [
    "# Training on train.csv and testing on test.csv"
   ]
  },
  {
   "cell_type": "markdown",
   "metadata": {},
   "source": [
    "# Naive Bayes "
   ]
  },
  {
   "cell_type": "markdown",
   "metadata": {},
   "source": [
    "## Train the model:"
   ]
  },
  {
   "cell_type": "code",
   "execution_count": 14,
   "metadata": {
    "collapsed": true
   },
   "outputs": [],
   "source": [
    "testing_data = testing_file_data.map(testing_hashing_tf)\n",
    "training_data = tfidf()\n",
    "model = NaiveBayes.train(training_data, 1.0)"
   ]
  },
  {
   "cell_type": "markdown",
   "metadata": {},
   "source": [
    "## Predict the labels and print accuracy:"
   ]
  },
  {
   "cell_type": "code",
   "execution_count": 17,
   "metadata": {
    "collapsed": false
   },
   "outputs": [
    {
     "data": {
      "text/plain": [
       "74.3732590529248"
      ]
     },
     "execution_count": 17,
     "metadata": {},
     "output_type": "execute_result"
    }
   ],
   "source": [
    "predictionAndLabel_naive_test = testing_data.map(lambda p: (float(model.predict(p.features)), p.label))\n",
    "naive_test_accuracy = 100.0 * predictionAndLabel_naive_test.filter(lambda x: x[0] == x[1]).count() / testing_data.count()\n",
    "naive_test_accuracy"
   ]
  },
  {
   "cell_type": "markdown",
   "metadata": {},
   "source": [
    "## Metrics for the model - precision, recall, f-measure, Confusion Matrix, ROC,area under ROC,area under Precision_Recall Curve "
   ]
  },
  {
   "cell_type": "code",
   "execution_count": 16,
   "metadata": {
    "collapsed": false
   },
   "outputs": [
    {
     "name": "stdout",
     "output_type": "stream",
     "text": [
      "Precision = 0.7437325905292479\n",
      "Recall = 0.7437325905292479\n",
      "F-1 Measure = 0.7437325905292479\n",
      "Confusion Matrix = DenseMatrix([[ 138.,   39.],\n",
      "             [  53.,  129.]])\n",
      "\n",
      "Area under ROC = 0.7442261128701807\n",
      "Area under PR = 0.8121403318130337\n"
     ]
    }
   ],
   "source": [
    "metrics_Naive_Test = MulticlassMetrics(predictionAndLabel_naive_test)\n",
    "metrics1_Naive_Test = BinaryClassificationMetrics(predictionAndLabel_naive_test)\n",
    "print(\"Precision = %s\" % metrics_Naive_Test.precision())\n",
    "print(\"Recall = %s\" % metrics_Naive_Test.recall())\n",
    "print(\"F-1 Measure = %s\" % metrics_Naive_Test.fMeasure())\n",
    "print(\"Confusion Matrix = %s\\n\" % metrics_Naive_Test.confusionMatrix())\n",
    "print(\"Area under ROC = %s\" % metrics1_Naive_Test.areaUnderROC)\n",
    "print(\"Area under PR = %s\" % metrics1_Naive_Test.areaUnderPR)"
   ]
  },
  {
   "cell_type": "markdown",
   "metadata": {},
   "source": [
    "# Logistic Regression"
   ]
  },
  {
   "cell_type": "markdown",
   "metadata": {},
   "source": [
    "## Train the model:"
   ]
  },
  {
   "cell_type": "code",
   "execution_count": 18,
   "metadata": {
    "collapsed": false
   },
   "outputs": [],
   "source": [
    "testing_data = testing_file_data.map(testing_hashing_tf)\n",
    "training_data = tfidf()\n",
    "model = LogisticRegressionWithLBFGS.train(training_data, iterations = 150 )"
   ]
  },
  {
   "cell_type": "markdown",
   "metadata": {},
   "source": [
    "## Predict the labels and print accuracy:"
   ]
  },
  {
   "cell_type": "code",
   "execution_count": 24,
   "metadata": {
    "collapsed": false
   },
   "outputs": [
    {
     "data": {
      "text/plain": [
       "0.7632311977715878"
      ]
     },
     "execution_count": 24,
     "metadata": {},
     "output_type": "execute_result"
    }
   ],
   "source": [
    "truePositiveRate_list = []\n",
    "falsePositiveRate_list = []\n",
    "MaxAccuracy = 0\n",
    "ThresholdValue = 0\n",
    "for i in range(0,50,2):\n",
    "    model.setThreshold(i/100)\n",
    "    predictionAndLabel_log_test = testing_data.map(lambda p: (float(model.predict(p.features)), p.label))\n",
    "    \n",
    "    correct1 = 0\n",
    "    trueP = 0\n",
    "    falseP = 0\n",
    "    trueN = 0\n",
    "    falseN = 0\n",
    "    \n",
    "    for item in predictionAndLabel_log_test.collect():\n",
    "        if item[0] == item[1]:\n",
    "            correct1 += 1\n",
    "        if item[0] == 0 and item[1] == 0:\n",
    "            trueN+= 1\n",
    "        elif item[0] == 1 and item[1] == 0:\n",
    "            falseP += 1\n",
    "        elif item[0] ==  1 and item[1] == 1:\n",
    "            trueP += 1\n",
    "        else:\n",
    "            falseN += 1\n",
    "\n",
    "    truePositiveRate = trueP / (trueP + falseN)\n",
    "    falsePostiveRate = falseP / (falseP + trueN)\n",
    "    truePositiveRate_list.append(truePositiveRate)\n",
    "    falsePositiveRate_list.append(falsePostiveRate)\n",
    "    logistic_test_acurracy = correct1/len(testing_data.collect())\n",
    "    if logistic_test_acurracy > MaxAccuracy:\n",
    "        maxaccuracy = logistic_test_acurracy\n",
    "        ThresholdValue = i/100\n",
    "        precision = truePositiveRate\n",
    "        recall = trueP/trueP + falseN\n",
    "logistic_test_acurracy"
   ]
  },
  {
   "cell_type": "markdown",
   "metadata": {},
   "source": [
    "## Metrics for the model - precision, recall, f-measure, Confusion Matrix,area under ROC,area under Precision_Recall Curve "
   ]
  },
  {
   "cell_type": "code",
   "execution_count": 22,
   "metadata": {
    "collapsed": false
   },
   "outputs": [
    {
     "name": "stdout",
     "output_type": "stream",
     "text": [
      "Precision = 0.7632311977715878\n",
      "Recall = 0.7632311977715878\n",
      "F-1 Measure = 0.7632311977715878\n",
      "Confusion Matrix = DenseMatrix([[ 122.,   55.],\n",
      "             [  30.,  152.]])\n",
      "Area under ROC = 0.7622151859439995\n",
      "Area under PR = 0.8265149058415379\n"
     ]
    }
   ],
   "source": [
    "metrics_Log_Test = MulticlassMetrics(predictionAndLabel_log_test)\n",
    "metrics1_Log_Test = BinaryClassificationMetrics(predictionAndLabel_log_test)\n",
    "print(\"Precision = %s\" % metrics_Log_Test.precision())\n",
    "print(\"Recall = %s\" % metrics_Log_Test.recall())\n",
    "print(\"F-1 Measure = %s\" % metrics_Log_Test.fMeasure())\n",
    "print(\"Confusion Matrix = %s\" % metrics_Log_Test.confusionMatrix())\n",
    "print(\"Area under ROC = %s\" % metrics1_Log_Test.areaUnderROC)\n",
    "print(\"Area under PR = %s\" % metrics1_Log_Test.areaUnderPR)"
   ]
  },
  {
   "cell_type": "markdown",
   "metadata": {},
   "source": [
    "# Training on full train.csv data and testing on it too"
   ]
  },
  {
   "cell_type": "markdown",
   "metadata": {},
   "source": [
    "# Naive Bayes"
   ]
  },
  {
   "cell_type": "code",
   "execution_count": 60,
   "metadata": {
    "collapsed": false
   },
   "outputs": [
    {
     "data": {
      "text/plain": [
       "0.835825"
      ]
     },
     "execution_count": 60,
     "metadata": {},
     "output_type": "execute_result"
    }
   ],
   "source": [
    "training_data = tfidf()\n",
    "model = NaiveBayes.train(training_data, 1.0)\n",
    "predictionAndLabel_naive_train = training_data.map(lambda p: (float(model.predict(p.features)), p.label))\n",
    "naive_bayes_training_accuracy = 1.0 * predictionAndLabel_naive_train.filter(lambda x: x[0] == x[1]).count() / training_data.count()\n",
    "naive_bayes_training_accuracy"
   ]
  },
  {
   "cell_type": "markdown",
   "metadata": {},
   "source": [
    "## Metrics for this prediction\n"
   ]
  },
  {
   "cell_type": "code",
   "execution_count": 61,
   "metadata": {
    "collapsed": false
   },
   "outputs": [
    {
     "name": "stdout",
     "output_type": "stream",
     "text": [
      "Precision = 0.835825\n",
      "Recall = 0.835825\n",
      "F-1 Measure = 0.835825\n",
      "Confusion Matrix = DenseMatrix([[ 34475.,   5525.],\n",
      "             [  7609.,  32391.]])\n",
      "Area under ROC = 0.835825\n",
      "Area under PR = 0.8795853261156241\n"
     ]
    }
   ],
   "source": [
    "metrics_naive_train = MulticlassMetrics(predictionAndLabel_naive_train)\n",
    "metrics1_naive_train = BinaryClassificationMetrics(predictionAndLabel_naive_train)\n",
    "print(\"Precision = %s\" % metrics_naive_train.precision())\n",
    "print(\"Recall = %s\" % metrics_naive_train.recall())\n",
    "print(\"F-1 Measure = %s\" % metrics_naive_train.fMeasure())\n",
    "print(\"Confusion Matrix = %s\" % metrics_naive_train.confusionMatrix())\n",
    "print(\"Area under ROC = %s\" % metrics1_naive_train.areaUnderROC)\n",
    "print(\"Area under PR = %s\" % metrics1_naive_train.areaUnderPR)"
   ]
  },
  {
   "cell_type": "markdown",
   "metadata": {},
   "source": [
    "# Logistic Regression"
   ]
  },
  {
   "cell_type": "code",
   "execution_count": 62,
   "metadata": {
    "collapsed": false
   },
   "outputs": [
    {
     "data": {
      "text/plain": [
       "0.8747375"
      ]
     },
     "execution_count": 62,
     "metadata": {},
     "output_type": "execute_result"
    }
   ],
   "source": [
    "training_data = tfidf()\n",
    "model = LogisticRegressionWithLBFGS.train(training_data, iterations = 150 )\n",
    "predictionAndLabel_log_train = training_data.map(lambda p: (float(model.predict(p.features)), p.label))\n",
    "log_training_accuracy = 1.0 * predictionAndLabel_naive_train.filter(lambda x: x[0] == x[1]).count() / training_data.count()\n",
    "log_training_accuracy"
   ]
  },
  {
   "cell_type": "markdown",
   "metadata": {},
   "source": [
    "## Metrics for this prediction"
   ]
  },
  {
   "cell_type": "code",
   "execution_count": 63,
   "metadata": {
    "collapsed": false
   },
   "outputs": [
    {
     "name": "stdout",
     "output_type": "stream",
     "text": [
      "Precision = 0.8747375\n",
      "Recall = 0.8747375\n",
      "F-1 Measure = 0.8747375\n",
      "Confusion Matrix = DenseMatrix([[ 35211.,   4789.],\n",
      "             [  5232.,  34768.]])\n",
      "Area under ROC = 0.8747375000000001\n",
      "Area under PR = 0.9067670981115858\n"
     ]
    }
   ],
   "source": [
    "metrics_Log_Train = MulticlassMetrics(predictionAndLabel_log_train)\n",
    "metrics1_Log_Train = BinaryClassificationMetrics(predictionAndLabel_log_train)\n",
    "print(\"Precision = %s\" % metrics_Log_Train.precision())\n",
    "print(\"Recall = %s\" % metrics_Log_Train.recall())\n",
    "print(\"F-1 Measure = %s\" % metrics_Log_Train.fMeasure())\n",
    "print(\"Confusion Matrix = %s\" % metrics_Log_Train.confusionMatrix())\n",
    "print(\"Area under ROC = %s\" % metrics1_Log_Train.areaUnderROC)\n",
    "print(\"Area under PR = %s\" % metrics1_Log_Train.areaUnderPR)"
   ]
  },
  {
   "cell_type": "markdown",
   "metadata": {},
   "source": [
    "# Training on 80% of the train.csv and testing on 20% of the test.csv"
   ]
  },
  {
   "cell_type": "markdown",
   "metadata": {},
   "source": [
    "# Naive Bayes"
   ]
  },
  {
   "cell_type": "code",
   "execution_count": 64,
   "metadata": {
    "collapsed": false
   },
   "outputs": [
    {
     "data": {
      "text/plain": [
       "0.715800702811245"
      ]
     },
     "execution_count": 64,
     "metadata": {},
     "output_type": "execute_result"
    }
   ],
   "source": [
    "training_data = tfidf()\n",
    "training, test = training_data.randomSplit([0.8, 0.2], seed=0)\n",
    "model = NaiveBayes.train(training, 1.0)\n",
    "predictionAndLabel_naive_train_80_20 = test.map(lambda p: (float(model.predict(p.features)), p.label))\n",
    "naive_training_80_20_accuracy = 1.0 * predictionAndLabel_naive_train_80_20.filter(lambda x: x[0] == x[1]).count() / test.count()\n",
    "naive_training_80_20_accuracy"
   ]
  },
  {
   "cell_type": "markdown",
   "metadata": {},
   "source": [
    "## Metrics for this prediction\n"
   ]
  },
  {
   "cell_type": "code",
   "execution_count": 65,
   "metadata": {
    "collapsed": false
   },
   "outputs": [
    {
     "name": "stdout",
     "output_type": "stream",
     "text": [
      "Precision = 0.715800702811245\n",
      "Recall = 0.715800702811245\n",
      "F-1 Measure = 0.715800702811245\n",
      "Confusion Matrix = DenseMatrix([[ 5874.,  2072.],\n",
      "             [ 2457.,  5533.]])\n",
      "Area under ROC = 0.7158652411915599\n",
      "Area under PR = 0.7871087480716289\n"
     ]
    }
   ],
   "source": [
    "metrics_naive_train_80_20 = MulticlassMetrics(predictionAndLabel_naive_train_80_20)\n",
    "metrics1_naive_train_80_20 = BinaryClassificationMetrics(predictionAndLabel_naive_train_80_20)\n",
    "print(\"Precision = %s\" % metrics_naive_train_80_20.precision())\n",
    "print(\"Recall = %s\" % metrics_naive_train_80_20.recall())\n",
    "print(\"F-1 Measure = %s\" % metrics_naive_train_80_20.fMeasure())\n",
    "print(\"Confusion Matrix = %s\" % metrics_naive_train_80_20.confusionMatrix())\n",
    "print(\"Area under ROC = %s\" % metrics1_naive_train_80_20.areaUnderROC)\n",
    "print(\"Area under PR = %s\" % metrics1_naive_train_80_20.areaUnderPR)"
   ]
  },
  {
   "cell_type": "markdown",
   "metadata": {
    "collapsed": true
   },
   "source": [
    "# Logistic Regression"
   ]
  },
  {
   "cell_type": "code",
   "execution_count": 67,
   "metadata": {
    "collapsed": false
   },
   "outputs": [
    {
     "data": {
      "text/plain": [
       "0.7260918674698795"
      ]
     },
     "execution_count": 67,
     "metadata": {},
     "output_type": "execute_result"
    }
   ],
   "source": [
    "training_data = tfidf()\n",
    "training, test = training_data.randomSplit([0.8, 0.2], seed=0)\n",
    "model = LogisticRegressionWithLBFGS.train(training, iterations = 150 )\n",
    "predictionAndLabel_log_train_80_20 = test.map(lambda p: (float(model.predict(p.features)), p.label))\n",
    "log_training_80_20_accuracy = 1.0 * predictionAndLabel_log_train_80_20.filter(lambda x: x[0] == x[1]).count() / test.count()\n",
    "log_training_80_20_accuracy"
   ]
  },
  {
   "cell_type": "markdown",
   "metadata": {},
   "source": [
    "## Metrics for this prediction"
   ]
  },
  {
   "cell_type": "code",
   "execution_count": 68,
   "metadata": {
    "collapsed": false
   },
   "outputs": [
    {
     "name": "stdout",
     "output_type": "stream",
     "text": [
      "Precision = 0.7260918674698795\n",
      "Recall = 0.7260918674698795\n",
      "F-1 Measure = 0.7260918674698795\n",
      "Confusion Matrix = DenseMatrix([[ 5803.,  2143.],\n",
      "             [ 2222.,  5768.]])\n",
      "Area under ROC = 0.7261034668618935\n",
      "Area under PR = 0.7952232364099054\n"
     ]
    }
   ],
   "source": [
    "metrics_log_train_80_20 = MulticlassMetrics(predictionAndLabel_log_train_80_20)\n",
    "metrics1_log_train_80_20 = BinaryClassificationMetrics(predictionAndLabel_log_train_80_20)\n",
    "print(\"Precision = %s\" % metrics_log_train_80_20.precision())\n",
    "print(\"Recall = %s\" % metrics_log_train_80_20.recall())\n",
    "print(\"F-1 Measure = %s\" % metrics_log_train_80_20.fMeasure())\n",
    "print(\"Confusion Matrix = %s\" % metrics_log_train_80_20.confusionMatrix())\n",
    "print(\"Area under ROC = %s\" % metrics1_log_train_80_20.areaUnderROC)\n",
    "print(\"Area under PR = %s\" % metrics1_log_train_80_20.areaUnderPR)"
   ]
  },
  {
   "cell_type": "markdown",
   "metadata": {},
   "source": [
    "# 10- Fold training and prediction, calculates the average accuracy"
   ]
  },
  {
   "cell_type": "markdown",
   "metadata": {},
   "source": [
    "## Split the data in 10 random sets"
   ]
  },
  {
   "cell_type": "code",
   "execution_count": 99,
   "metadata": {
    "collapsed": false
   },
   "outputs": [],
   "source": [
    "validation_list = []\n",
    "training_data = tfidf()\n",
    "validation_list = training_data.randomSplit([0.1,0.1,0.1,0.1,0.1,0.1,0.1,0.1,0.1,0.1], seed=0)"
   ]
  },
  {
   "cell_type": "markdown",
   "metadata": {},
   "source": [
    "# Naive Bayes - 10 Fold"
   ]
  },
  {
   "cell_type": "code",
   "execution_count": 90,
   "metadata": {
    "collapsed": false
   },
   "outputs": [],
   "source": [
    "total_accuracy = 0\n",
    "for i in range(10):\n",
    "    validation_train_flag = False\n",
    "    for j in range(10):\n",
    "        if i != j:\n",
    "            if validation_train_flag is False:\n",
    "                train_data = validation_list[j]\n",
    "                validation_train_flag = True\n",
    "            else:    \n",
    "                train_data = train_data.union(validation_list[j])\n",
    "        else:\n",
    "            test_data = validation_list[j]\n",
    "    model = NaiveBayes.train(train_data, 1.0)\n",
    "    predictionAndLabel_naive_10_fold = test_data.map(lambda p: (model.predict(p.features), p.label))\n",
    "    accuracy = 1.0 * predictionAndLabel_naive_10_fold.filter(lambda x: x[0] == x[1]).count() / test_data.count()\n",
    "    print(\"Fold %s.\"% i+1)\n",
    "    #print(len(validation_list[i]))\n",
    "    naive_10_fold_accuracy += accuracy\n",
    "    print(accuracy)\n",
    "\n",
    "print(\"Average Accuracy for 10-Fold Naive Bayes: %s.\" % naive_10_fold_accuracy/10)"
   ]
  },
  {
   "cell_type": "markdown",
   "metadata": {},
   "source": [
    "## Metrics for this prediction"
   ]
  },
  {
   "cell_type": "code",
   "execution_count": null,
   "metadata": {
    "collapsed": true
   },
   "outputs": [],
   "source": [
    "metrics_naive_10_fold = MulticlassMetrics(predictionAndLabel_naive_10_fold)\n",
    "metrics1_naive_10_fold = BinaryClassificationMetrics(predictionAndLabel_naive_10_fold)\n",
    "print(\"Precision = %s\" % metrics_naive_10_fold.precision())\n",
    "print(\"Recall = %s\" % metrics_naive_10_fold.recall())\n",
    "print(\"F-1 Measure = %s\" % metrics_naive_10_fold.fMeasure())\n",
    "print(\"Confusion Matrix = %s\" % metrics_naive_10_fold.confusionMatrix())\n",
    "print(\"Area under ROC = %s\" % metrics1_naive_10_fold.areaUnderROC)\n",
    "print(\"Area under PR = %s\" % metrics1_naive_10_fold.areaUnderPR)"
   ]
  },
  {
   "cell_type": "markdown",
   "metadata": {},
   "source": [
    "# Logistic Regression - 10 Fold"
   ]
  },
  {
   "cell_type": "code",
   "execution_count": 7,
   "metadata": {
    "collapsed": false
   },
   "outputs": [],
   "source": [
    "total_accuracy = 0\n",
    "for i in range(10):\n",
    "    validation_train_flag = False\n",
    "    for j in range(10):\n",
    "        if i != j:\n",
    "            if validation_train_flag is False:\n",
    "                train_data = validation_list[j]\n",
    "                validation_train_flag = True\n",
    "            else:    \n",
    "                train_data = train_data.union(validation_list[j])\n",
    "        else:\n",
    "            test_data = validation_list[j]\n",
    "    model = LogisticRegressionWithLBFGS.train(train_data, iterations = 150 )\n",
    "    predictionAndLabel_log_10_fold = test_data.map(lambda p: (model.predict(p.features), p.label))\n",
    "    accuracy = 1.0 * predictionAndLabel_log_10_fold.filter(lambda x: x[0] == x[1]).count() / test_data.count()\n",
    "    print(i+1)\n",
    "    #print(len(validation_list[i]))\n",
    "    log_10_fold_accuracy += accuracy\n",
    "    print(accuracy)\n",
    "print(log_10_fold_accuracy/5)"
   ]
  },
  {
   "cell_type": "markdown",
   "metadata": {},
   "source": [
    "## Metrics for this Prediction"
   ]
  },
  {
   "cell_type": "code",
   "execution_count": null,
   "metadata": {
    "collapsed": true
   },
   "outputs": [],
   "source": [
    "metrics_log_10_fold = MulticlassMetrics(predictionAndLabel_log_10_fold)\n",
    "metrics1_log_10_fold = BinaryClassificationMetrics(predictionAndLabel_log_10_fold)\n",
    "print(\"Precision = %s\" % metrics_log_10_fold.precision())\n",
    "print(\"Recall = %s\" % metrics_log_10_fold.recall())\n",
    "print(\"F-1 Measure = %s\" % metrics_log_10_fold.fMeasure())\n",
    "print(\"Confusion Matrix = %s\" % metrics_log_10_fold.confusionMatrix())\n",
    "print(\"Area under ROC = %s\" % metrics1_log_10_fold.areaUnderROC)\n",
    "print(\"Area under PR = %s\" % metrics1_log_10_fold.areaUnderPR)"
   ]
  },
  {
   "cell_type": "markdown",
   "metadata": {},
   "source": [
    "# Plotting:"
   ]
  },
  {
   "cell_type": "markdown",
   "metadata": {},
   "source": [
    "# Variation between naive bayes and logistic regression on different sets of training and testing data."
   ]
  },
  {
   "cell_type": "code",
   "execution_count": 37,
   "metadata": {
    "collapsed": false
   },
   "outputs": [
    {
     "data": {
      "image/png": "[encoded data removed]",
      "text/plain": [
       "<matplotlib.figure.Figure at 0x7f55410f8eb8>"
      ]
     },
     "metadata": {},
     "output_type": "display_data"
    },
    {
     "data": {
      "text/plain": [
       "<matplotlib.figure.Figure at 0x7f5540fa7fd0>"
      ]
     },
     "metadata": {},
     "output_type": "display_data"
    }
   ],
   "source": [
    "groups = 4\n",
    "\n",
    "# naive_bayes_means = (naive_test_accuracy, naive_bayes_training_accuracy, naive_training_80_20_accuracy, \n",
    "                    #naive_10_fold_accuracy)\n",
    "naive_bayes_means = (74.37, 83.6, 71.5, 71.34)\n",
    "naive_bayes_std = (4, 3, 2, 1)\n",
    "\n",
    "# logistic_regression_means = (logistic_test_accuracy, log_training_accuracy, log_training_80_20_accuracy \n",
    "                             #log_10_fold_accuracy)\n",
    "logistic_regression_means = (77.4, 87.4, 72.6, 72.28)\n",
    "\n",
    "logistic_regression_std = (4, 3, 2, 1)\n",
    "\n",
    "width = 0.40\n",
    "ind_1 = np.arange(groups)\n",
    "fig, ax = pp.subplots()\n",
    "rects1 = ax.bar(ind_1, naive_bayes_means, width, color='w', yerr=naive_bayes_std)\n",
    "rects2 = ax.bar(ind_1 + width, logistic_regression_means, width, color='k', yerr=logistic_regression_std)\n",
    "\n",
    "ax.set_ylabel('Accuracy in percentages: ')\n",
    "ax.set_title('Accuracy by the classifiers: NB and Log ')\n",
    "ax.set_xticks(ind_1 + width)\n",
    "ax.set_xticklabels(('test', 'training', 'training_80_20', 'k-fold'))\n",
    "pp.ylim(ymax = 110, ymin = 0)\n",
    "\n",
    "ax.legend((rects1[0], rects2[0]), ('Naive Bayes', 'Logistic Regression'))\n",
    "\n",
    "def autolabel(rects):\n",
    "    # attach some text labels\n",
    "    for rect in rects:\n",
    "        height = rect.get_height()\n",
    "        ax.text(rect.get_x() + rect.get_width()/2., 1.05*height,\n",
    "                '%d' % int(height),\n",
    "                ha='center', va='bottom')\n",
    "\n",
    "autolabel(rects1)\n",
    "autolabel(rects2)\n",
    "\n",
    "\n",
    "pp.figure(figsize=(30,20))\n",
    "\n",
    "pp.show()"
   ]
  },
  {
   "cell_type": "markdown",
   "metadata": {},
   "source": [
    "# ROC curve for Logistic Regression on test.csv"
   ]
  },
  {
   "cell_type": "code",
   "execution_count": 30,
   "metadata": {
    "collapsed": false
   },
   "outputs": [
    {
     "data": {
      "image/png": "[encoded data removed]",
      "text/plain": [
       "<matplotlib.figure.Figure at 0x7f55419c67b8>"
      ]
     },
     "metadata": {},
     "output_type": "display_data"
    }
   ],
   "source": [
    "%matplotlib inline\n",
    "pp.plot(falsePositiveRate_list, truePositiveRate_list, color='m')\n",
    "pp.xlabel(\"Rate of False-Positive\")\n",
    "pp.ylabel(\"Rate of True-Positive\")\n",
    "pp.show()"
   ]
  },
  {
   "cell_type": "code",
   "execution_count": null,
   "metadata": {
    "collapsed": true
   },
   "outputs": [],
   "source": [
    ""
   ]
  }
 ],
 "metadata": {
  "kernelspec": {
   "display_name": "Python 3",
   "language": "python",
   "name": "python3"
  },
  "language_info": {
   "codemirror_mode": {
    "name": "ipython",
    "version": 3.0
   },
   "file_extension": ".py",
   "mimetype": "text/x-python",
   "name": "python",
   "nbconvert_exporter": "python",
   "pygments_lexer": "ipython3",
   "version": "3.5.2"
  }
 },
 "nbformat": 4,
 "nbformat_minor": 0
}